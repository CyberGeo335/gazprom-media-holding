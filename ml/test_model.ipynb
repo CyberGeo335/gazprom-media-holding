{
 "cells": [
  {
   "metadata": {},
   "cell_type": "markdown",
   "source": [
    "# Проверка загрузки и работы модели\n",
    "\n",
    "данный файл является шаблоном и предназначен для загрузки модели и получения результата. Модель которая здесь используется, является примером и не является финальной"
   ],
   "id": "558960aea9907684"
  },
  {
   "cell_type": "code",
   "id": "initial_id",
   "metadata": {
    "collapsed": true,
    "ExecuteTime": {
     "end_time": "2024-06-04T19:37:04.548825Z",
     "start_time": "2024-06-04T19:37:04.534826Z"
    }
   },
   "source": [
    "import torch\n",
    "from PIL import Image\n",
    "from torchvision import transforms"
   ],
   "outputs": [],
   "execution_count": 28
  },
  {
   "metadata": {
    "ExecuteTime": {
     "end_time": "2024-06-04T19:37:05.152916Z",
     "start_time": "2024-06-04T19:37:05.123835Z"
    }
   },
   "cell_type": "code",
   "source": "DEVICE = torch.device(\"cuda\" if torch.cuda.is_available() else \"cpu\")",
   "id": "fdfad6b6d67d3196",
   "outputs": [],
   "execution_count": 29
  },
  {
   "metadata": {
    "ExecuteTime": {
     "end_time": "2024-06-04T19:37:06.421890Z",
     "start_time": "2024-06-04T19:37:05.691892Z"
    }
   },
   "cell_type": "code",
   "source": [
    "# Загрузка модели (не актуальная версия)\n",
    "traced_model = torch.jit.load(\"custom_model_traced_new.pth\").to(DEVICE)"
   ],
   "id": "db07ac3c300c8647",
   "outputs": [],
   "execution_count": 30
  },
  {
   "metadata": {
    "ExecuteTime": {
     "end_time": "2024-06-04T19:37:07.062890Z",
     "start_time": "2024-06-04T19:37:07.044926Z"
    }
   },
   "cell_type": "code",
   "source": [
    "# Подготовка изображения\n",
    "def preprocess_image(image_path):\n",
    "    preprocess = transforms.Compose([\n",
    "        transforms.Resize(256),\n",
    "        transforms.CenterCrop(224),\n",
    "        transforms.ToTensor(),\n",
    "        transforms.Normalize(mean=[0.485, 0.456, 0.406], std=[0.229, 0.224, 0.225]),\n",
    "    ])\n",
    "    image = Image.open(image_path)\n",
    "    image = preprocess(image)\n",
    "    image = image.unsqueeze(0)\n",
    "    return image"
   ],
   "id": "1020f1188d75fdc4",
   "outputs": [],
   "execution_count": 31
  },
  {
   "metadata": {
    "ExecuteTime": {
     "end_time": "2024-06-04T19:37:08.170794Z",
     "start_time": "2024-06-04T19:37:08.134920Z"
    }
   },
   "cell_type": "code",
   "source": [
    "image_path = \"D:\\\\ProgPrj\\\\dsProjects\\\\gazprom-media\\\\ml\\\\train\\\\waffles\\\\6312.jpg\"\n",
    "image = preprocess_image(image_path).to(DEVICE)"
   ],
   "id": "2e31153601068c73",
   "outputs": [],
   "execution_count": 32
  },
  {
   "metadata": {
    "ExecuteTime": {
     "end_time": "2024-06-04T19:37:08.840191Z",
     "start_time": "2024-06-04T19:37:08.670192Z"
    }
   },
   "cell_type": "code",
   "source": [
    "# Выполнение предсказания численного класса\n",
    "traced_model.eval()\n",
    "with torch.no_grad():\n",
    "    output = traced_model(image)\n",
    "    _, predicted = torch.max(output, 1)\n",
    "\n",
    "print(f\"Predicted class: {predicted.item()}\")"
   ],
   "id": "46301939d1bc581b",
   "outputs": [
    {
     "name": "stdout",
     "output_type": "stream",
     "text": [
      "Predicted class: 100\n"
     ]
    }
   ],
   "execution_count": 33
  }
 ],
 "metadata": {
  "kernelspec": {
   "display_name": "Python 3",
   "language": "python",
   "name": "python3"
  },
  "language_info": {
   "codemirror_mode": {
    "name": "ipython",
    "version": 2
   },
   "file_extension": ".py",
   "mimetype": "text/x-python",
   "name": "python",
   "nbconvert_exporter": "python",
   "pygments_lexer": "ipython2",
   "version": "2.7.6"
  }
 },
 "nbformat": 4,
 "nbformat_minor": 5
}
