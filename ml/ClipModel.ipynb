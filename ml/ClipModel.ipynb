{
 "cells": [
  {
   "metadata": {},
   "cell_type": "markdown",
   "source": [
    "# Обучение модели\n",
    "\n",
    "1) Процесс проходит на CUDA\n",
    "2) Модель используется CLIP\n",
    "3) Accuracy 0.87"
   ],
   "id": "f743fbf1d1aa6001"
  },
  {
   "metadata": {},
   "cell_type": "markdown",
   "source": "<h3> Импорт либ",
   "id": "b31b7bada3c37ddf"
  },
  {
   "cell_type": "code",
   "id": "initial_id",
   "metadata": {
    "collapsed": true,
    "ExecuteTime": {
     "end_time": "2024-06-04T16:22:17.706307Z",
     "start_time": "2024-06-04T16:22:14.470432Z"
    }
   },
   "source": [
    "import torch\n",
    "import torch.nn as nn\n",
    "import torch.optim as optim\n",
    "from torchvision import transforms, datasets\n",
    "from torch.utils.data import DataLoader\n",
    "from sklearn.metrics import accuracy_score, f1_score\n",
    "from transformers import CLIPProcessor, CLIPModel, CLIPVisionModel\n",
    "from tqdm import tqdm\n",
    "from PIL import ImageFile"
   ],
   "outputs": [],
   "execution_count": 1
  },
  {
   "metadata": {
    "ExecuteTime": {
     "end_time": "2024-06-04T16:22:17.754307Z",
     "start_time": "2024-06-04T16:22:17.707308Z"
    }
   },
   "cell_type": "code",
   "source": [
    "DEVICE = torch.device(\"cuda\" if torch.cuda.is_available() else \"cpu\")\n",
    "DEVICE"
   ],
   "id": "341afe5e8978a9",
   "outputs": [
    {
     "data": {
      "text/plain": [
       "device(type='cuda')"
      ]
     },
     "execution_count": 2,
     "metadata": {},
     "output_type": "execute_result"
    }
   ],
   "execution_count": 2
  },
  {
   "metadata": {},
   "cell_type": "markdown",
   "source": "<h3> Путь к данным, которые мы распределили в файле first_look.ipynb",
   "id": "15341da22937fa34"
  },
  {
   "metadata": {
    "ExecuteTime": {
     "end_time": "2024-06-04T16:22:17.770307Z",
     "start_time": "2024-06-04T16:22:17.755308Z"
    }
   },
   "cell_type": "code",
   "source": [
    "# Путь к данным\n",
    "train_path = 'D:\\\\ProgPrj\\\\dsProjects\\\\gazprom-media\\\\ml\\\\train'\n",
    "\n",
    "test_path = 'D:\\\\ProgPrj\\\\dsProjects\\\\gazprom-media\\\\ml\\\\test'"
   ],
   "id": "49497f60ddd047f",
   "outputs": [],
   "execution_count": 3
  },
  {
   "metadata": {
    "ExecuteTime": {
     "end_time": "2024-06-04T16:22:17.786310Z",
     "start_time": "2024-06-04T16:22:17.771308Z"
    }
   },
   "cell_type": "code",
   "source": [
    "# Преобразования для тренировочного и валидационного наборов данных\n",
    "train_transform = transforms.Compose([\n",
    "    transforms.RandomHorizontalFlip(),\n",
    "    transforms.RandomVerticalFlip(),\n",
    "    transforms.RandomApply(torch.nn.ModuleList([transforms.ColorJitter()]), p=0.25),\n",
    "    transforms.Resize(256),\n",
    "    transforms.CenterCrop(224),\n",
    "    transforms.RandomRotation(degrees=(-10, 10)),\n",
    "    transforms.RandomGrayscale(p=0.2),\n",
    "    transforms.ToTensor(),\n",
    "    transforms.Normalize([0.485, 0.456, 0.406], [0.229, 0.224, 0.225]),\n",
    "    transforms.RandomErasing(p=0.1, value='random')\n",
    "])"
   ],
   "id": "f32f91ad47a569b",
   "outputs": [],
   "execution_count": 4
  },
  {
   "metadata": {
    "ExecuteTime": {
     "end_time": "2024-06-04T16:22:18.215381Z",
     "start_time": "2024-06-04T16:22:18.201382Z"
    }
   },
   "cell_type": "code",
   "source": [
    "val_transform = transforms.Compose([\n",
    "    transforms.Resize(256),\n",
    "    transforms.CenterCrop(224),\n",
    "    transforms.ToTensor(),\n",
    "    transforms.Normalize([0.485, 0.456, 0.406], [0.229, 0.224, 0.225])\n",
    "])"
   ],
   "id": "df8beccbf2c93eeb",
   "outputs": [],
   "execution_count": 5
  },
  {
   "metadata": {
    "ExecuteTime": {
     "end_time": "2024-06-04T16:22:19.007955Z",
     "start_time": "2024-06-04T16:22:18.734957Z"
    }
   },
   "cell_type": "code",
   "source": [
    "# Загрузка данных\n",
    "train_dataset = datasets.ImageFolder(train_path, transform=train_transform)\n",
    "\n",
    "val_dataset = datasets.ImageFolder(test_path, transform=val_transform)"
   ],
   "id": "711b3a5d5527813c",
   "outputs": [],
   "execution_count": 6
  },
  {
   "metadata": {},
   "cell_type": "markdown",
   "source": "Вывод кол-ва классов",
   "id": "1416baf0dbcdc83f"
  },
  {
   "metadata": {
    "ExecuteTime": {
     "end_time": "2024-06-04T16:22:19.087280Z",
     "start_time": "2024-06-04T16:22:19.083281Z"
    }
   },
   "cell_type": "code",
   "source": "print(len(train_dataset.class_to_idx))",
   "id": "6ae96f2d7f5197ce",
   "outputs": [
    {
     "name": "stdout",
     "output_type": "stream",
     "text": [
      "101\n"
     ]
    }
   ],
   "execution_count": 7
  },
  {
   "metadata": {
    "ExecuteTime": {
     "end_time": "2024-06-04T16:22:19.896557Z",
     "start_time": "2024-06-04T16:22:19.881559Z"
    }
   },
   "cell_type": "code",
   "source": [
    "batch_size = 128\n",
    "\n",
    "train_loader = DataLoader(train_dataset, batch_size=batch_size, shuffle=True, num_workers=4, pin_memory=True)\n",
    "\n",
    "val_loader = DataLoader(val_dataset, batch_size=batch_size, shuffle=False, num_workers=4, pin_memory=True)"
   ],
   "id": "9081267386426ba2",
   "outputs": [],
   "execution_count": 8
  },
  {
   "metadata": {},
   "cell_type": "markdown",
   "source": "<h3> Загрузка модели CLIP",
   "id": "a2ebd5c77aa041ee"
  },
  {
   "metadata": {
    "ExecuteTime": {
     "end_time": "2024-06-04T16:22:22.985567Z",
     "start_time": "2024-06-04T16:22:20.609104Z"
    }
   },
   "cell_type": "code",
   "source": [
    "# Загрузка модели и процессора CLIP\n",
    "model = CLIPModel.from_pretrained(\"openai/clip-vit-base-patch32\")\n",
    "processor = CLIPProcessor.from_pretrained(\"openai/clip-vit-base-patch32\")"
   ],
   "id": "a39167356fdf9ac1",
   "outputs": [
    {
     "name": "stderr",
     "output_type": "stream",
     "text": [
      "C:\\Users\\Geo\\AppData\\Local\\Programs\\Python\\Python310\\lib\\site-packages\\huggingface_hub\\file_download.py:1132: FutureWarning: `resume_download` is deprecated and will be removed in version 1.0.0. Downloads always resume when possible. If you want to force a new download, use `force_download=True`.\n",
      "  warnings.warn(\n",
      "C:\\Users\\Geo\\AppData\\Local\\Programs\\Python\\Python310\\lib\\site-packages\\torch\\_utils.py:831: UserWarning: TypedStorage is deprecated. It will be removed in the future and UntypedStorage will be the only storage class. This should only matter to you if you are using storages directly.  To access UntypedStorage directly, use tensor.untyped_storage() instead of tensor.storage()\n",
      "  return self.fget.__get__(instance, owner)()\n"
     ]
    }
   ],
   "execution_count": 9
  },
  {
   "metadata": {
    "ExecuteTime": {
     "end_time": "2024-06-04T16:22:23.001567Z",
     "start_time": "2024-06-04T16:22:22.986567Z"
    }
   },
   "cell_type": "code",
   "source": [
    "# Размерность выходных признаков из модели CLIP\n",
    "hidden_size = model.config.projection_dim"
   ],
   "id": "194681d3fad7d3aa",
   "outputs": [],
   "execution_count": 10
  },
  {
   "metadata": {
    "ExecuteTime": {
     "end_time": "2024-06-04T16:22:23.570661Z",
     "start_time": "2024-06-04T16:22:23.556661Z"
    }
   },
   "cell_type": "code",
   "source": [
    "# Добавляем новый классификационный слой\n",
    "class CustomCLIPModel(nn.Module):\n",
    "    def __init__(self, clip_model, num_classes):\n",
    "        super(CustomCLIPModel, self).__init__()\n",
    "        self.clip_model = clip_model\n",
    "        self.fc = nn.Linear(hidden_size, num_classes)\n",
    "\n",
    "    def forward(self, x):\n",
    "        with torch.no_grad():\n",
    "            features = self.clip_model.get_image_features(x)\n",
    "        x = self.fc(features)\n",
    "        return x"
   ],
   "id": "5e69aa7dccd04739",
   "outputs": [],
   "execution_count": 11
  },
  {
   "metadata": {
    "ExecuteTime": {
     "end_time": "2024-06-04T16:22:24.334684Z",
     "start_time": "2024-06-04T16:22:24.096684Z"
    }
   },
   "cell_type": "code",
   "source": [
    "num_classes = len(train_dataset.classes)\n",
    "custom_model = CustomCLIPModel(model, num_classes).to(DEVICE)"
   ],
   "id": "b4ef21f09be2e047",
   "outputs": [],
   "execution_count": 12
  },
  {
   "metadata": {
    "ExecuteTime": {
     "end_time": "2024-06-04T16:22:24.886107Z",
     "start_time": "2024-06-04T16:22:24.871702Z"
    }
   },
   "cell_type": "code",
   "source": [
    "# Оптимизатор и функция потерь\n",
    "criterion = nn.CrossEntropyLoss()\n",
    "optimizer = optim.AdamW(custom_model.parameters(), lr=1e-4)"
   ],
   "id": "a20de7072b03745c",
   "outputs": [],
   "execution_count": 13
  },
  {
   "metadata": {
    "ExecuteTime": {
     "end_time": "2024-06-04T16:22:25.697165Z",
     "start_time": "2024-06-04T16:22:25.682166Z"
    }
   },
   "cell_type": "code",
   "source": [
    "# Обучение с использованием градиентного скейлера\n",
    "from torch.cuda.amp import autocast, GradScaler"
   ],
   "id": "f1661489d6182dd3",
   "outputs": [],
   "execution_count": 14
  },
  {
   "metadata": {},
   "cell_type": "markdown",
   "source": "<h3> Обучение модели",
   "id": "40d30450fee4fb09"
  },
  {
   "metadata": {
    "ExecuteTime": {
     "end_time": "2024-06-04T16:22:26.202605Z",
     "start_time": "2024-06-04T16:22:26.187606Z"
    }
   },
   "cell_type": "code",
   "source": [
    "num_epochs = 100\n",
    "train_loss_history = []\n",
    "val_accuracy_history = []\n",
    "val_f1_history = []\n",
    "\n",
    "# Initialize GradScaler\n",
    "scaler = torch.cuda.amp.GradScaler()\n",
    "#scaler = GradScaler()"
   ],
   "id": "91e2d9983a8b0fdb",
   "outputs": [],
   "execution_count": 15
  },
  {
   "metadata": {
    "ExecuteTime": {
     "end_time": "2024-06-04T18:58:25.714768Z",
     "start_time": "2024-06-04T16:22:27.121615Z"
    }
   },
   "cell_type": "code",
   "source": [
    "for epoch in range(num_epochs):\n",
    "    ImageFile.LOAD_TRUNCATED_IMAGES = True\n",
    "    custom_model.train()\n",
    "    running_loss = 0.0\n",
    "    train_loader_tqdm = tqdm(train_loader, desc=f'Epoch {epoch+1}/{num_epochs}')\n",
    "\n",
    "    for inputs, labels in train_loader_tqdm:\n",
    "        inputs, labels = inputs.to(DEVICE, non_blocking=True), labels.to(DEVICE, non_blocking=True)\n",
    "\n",
    "        optimizer.zero_grad()\n",
    "\n",
    "        with torch.cuda.amp.autocast():\n",
    "            outputs = custom_model(inputs)\n",
    "            loss = criterion(outputs, labels)\n",
    "\n",
    "        scaler.scale(loss).backward()\n",
    "        scaler.step(optimizer)\n",
    "        scaler.update()\n",
    "\n",
    "        running_loss += loss.item() * inputs.size(0)\n",
    "        train_loader_tqdm.set_postfix(loss=loss.item())\n",
    "\n",
    "    epoch_loss = running_loss / len(train_dataset)\n",
    "    train_loss_history.append(epoch_loss)"
   ],
   "id": "d4a2aefb68d8534a",
   "outputs": [
    {
     "name": "stderr",
     "output_type": "stream",
     "text": [
      "Epoch 1/100: 100%|██████████| 592/592 [01:44<00:00,  5.69it/s, loss=3.7] \n",
      "Epoch 2/100: 100%|██████████| 592/592 [01:34<00:00,  6.24it/s, loss=2.82]\n",
      "Epoch 3/100: 100%|██████████| 592/592 [01:37<00:00,  6.07it/s, loss=2.47]\n",
      "Epoch 4/100: 100%|██████████| 592/592 [02:02<00:00,  4.82it/s, loss=2.07]\n",
      "Epoch 5/100: 100%|██████████| 592/592 [01:42<00:00,  5.76it/s, loss=1.88]\n",
      "Epoch 6/100: 100%|██████████| 592/592 [01:32<00:00,  6.42it/s, loss=1.64]\n",
      "Epoch 7/100: 100%|██████████| 592/592 [01:34<00:00,  6.24it/s, loss=1.72]\n",
      "Epoch 8/100: 100%|██████████| 592/592 [01:32<00:00,  6.43it/s, loss=1.63]\n",
      "Epoch 9/100: 100%|██████████| 592/592 [01:32<00:00,  6.38it/s, loss=1.79]\n",
      "Epoch 10/100: 100%|██████████| 592/592 [01:34<00:00,  6.25it/s, loss=1.66]\n",
      "Epoch 11/100: 100%|██████████| 592/592 [01:32<00:00,  6.43it/s, loss=1.62]\n",
      "Epoch 12/100: 100%|██████████| 592/592 [01:31<00:00,  6.46it/s, loss=1.49]\n",
      "Epoch 13/100: 100%|██████████| 592/592 [01:31<00:00,  6.46it/s, loss=1.37] \n",
      "Epoch 14/100: 100%|██████████| 592/592 [01:34<00:00,  6.28it/s, loss=1.19]\n",
      "Epoch 15/100: 100%|██████████| 592/592 [01:31<00:00,  6.44it/s, loss=1.39]\n",
      "Epoch 16/100: 100%|██████████| 592/592 [01:31<00:00,  6.44it/s, loss=1.39] \n",
      "Epoch 17/100: 100%|██████████| 592/592 [01:31<00:00,  6.45it/s, loss=1.55] \n",
      "Epoch 18/100: 100%|██████████| 592/592 [01:34<00:00,  6.27it/s, loss=1.57] \n",
      "Epoch 19/100: 100%|██████████| 592/592 [01:32<00:00,  6.39it/s, loss=1.32] \n",
      "Epoch 20/100: 100%|██████████| 592/592 [01:32<00:00,  6.38it/s, loss=1.4]  \n",
      "Epoch 21/100: 100%|██████████| 592/592 [01:39<00:00,  5.97it/s, loss=1]    \n",
      "Epoch 22/100: 100%|██████████| 592/592 [01:36<00:00,  6.16it/s, loss=1.3]  \n",
      "Epoch 23/100: 100%|██████████| 592/592 [01:31<00:00,  6.48it/s, loss=1.32] \n",
      "Epoch 24/100: 100%|██████████| 592/592 [01:31<00:00,  6.47it/s, loss=1.28] \n",
      "Epoch 25/100: 100%|██████████| 592/592 [01:44<00:00,  5.67it/s, loss=1.31] \n",
      "Epoch 26/100: 100%|██████████| 592/592 [01:38<00:00,  5.98it/s, loss=1.37] \n",
      "Epoch 27/100: 100%|██████████| 592/592 [01:33<00:00,  6.30it/s, loss=1.44] \n",
      "Epoch 28/100: 100%|██████████| 592/592 [01:37<00:00,  6.04it/s, loss=1.44] \n",
      "Epoch 29/100: 100%|██████████| 592/592 [01:36<00:00,  6.15it/s, loss=1.2]  \n",
      "Epoch 30/100: 100%|██████████| 592/592 [01:35<00:00,  6.21it/s, loss=1]    \n",
      "Epoch 31/100: 100%|██████████| 592/592 [01:36<00:00,  6.14it/s, loss=1.38] \n",
      "Epoch 32/100: 100%|██████████| 592/592 [01:34<00:00,  6.26it/s, loss=1.12] \n",
      "Epoch 33/100: 100%|██████████| 592/592 [01:32<00:00,  6.37it/s, loss=1.31] \n",
      "Epoch 34/100: 100%|██████████| 592/592 [01:34<00:00,  6.27it/s, loss=1.01] \n",
      "Epoch 35/100: 100%|██████████| 592/592 [01:32<00:00,  6.42it/s, loss=1.01] \n",
      "Epoch 36/100: 100%|██████████| 592/592 [01:31<00:00,  6.45it/s, loss=1.35] \n",
      "Epoch 37/100: 100%|██████████| 592/592 [01:31<00:00,  6.45it/s, loss=1.14] \n",
      "Epoch 38/100: 100%|██████████| 592/592 [01:34<00:00,  6.23it/s, loss=1.2]  \n",
      "Epoch 39/100: 100%|██████████| 592/592 [01:33<00:00,  6.31it/s, loss=1.22] \n",
      "Epoch 40/100: 100%|██████████| 592/592 [01:32<00:00,  6.42it/s, loss=1.64] \n",
      "Epoch 41/100: 100%|██████████| 592/592 [01:31<00:00,  6.48it/s, loss=1.31] \n",
      "Epoch 42/100: 100%|██████████| 592/592 [01:34<00:00,  6.26it/s, loss=1.08] \n",
      "Epoch 43/100: 100%|██████████| 592/592 [01:31<00:00,  6.50it/s, loss=1.09] \n",
      "Epoch 44/100: 100%|██████████| 592/592 [01:32<00:00,  6.41it/s, loss=1.15] \n",
      "Epoch 45/100: 100%|██████████| 592/592 [01:31<00:00,  6.45it/s, loss=1.18] \n",
      "Epoch 46/100: 100%|██████████| 592/592 [01:33<00:00,  6.30it/s, loss=1.35] \n",
      "Epoch 47/100: 100%|██████████| 592/592 [01:31<00:00,  6.49it/s, loss=1.05] \n",
      "Epoch 48/100: 100%|██████████| 592/592 [01:31<00:00,  6.46it/s, loss=1.16] \n",
      "Epoch 49/100: 100%|██████████| 592/592 [01:32<00:00,  6.43it/s, loss=1.1]  \n",
      "Epoch 50/100: 100%|██████████| 592/592 [01:34<00:00,  6.28it/s, loss=1.19] \n",
      "Epoch 51/100: 100%|██████████| 592/592 [01:30<00:00,  6.51it/s, loss=1.18] \n",
      "Epoch 52/100: 100%|██████████| 592/592 [01:31<00:00,  6.47it/s, loss=1.28] \n",
      "Epoch 53/100: 100%|██████████| 592/592 [01:31<00:00,  6.48it/s, loss=1.14] \n",
      "Epoch 54/100: 100%|██████████| 592/592 [01:34<00:00,  6.24it/s, loss=1.26] \n",
      "Epoch 55/100: 100%|██████████| 592/592 [01:31<00:00,  6.44it/s, loss=1.02] \n",
      "Epoch 56/100: 100%|██████████| 592/592 [01:31<00:00,  6.48it/s, loss=1.01] \n",
      "Epoch 57/100: 100%|██████████| 592/592 [01:32<00:00,  6.42it/s, loss=1.12] \n",
      "Epoch 58/100: 100%|██████████| 592/592 [01:34<00:00,  6.25it/s, loss=0.79] \n",
      "Epoch 59/100: 100%|██████████| 592/592 [01:31<00:00,  6.45it/s, loss=1.13] \n",
      "Epoch 60/100: 100%|██████████| 592/592 [01:31<00:00,  6.47it/s, loss=1.05] \n",
      "Epoch 61/100: 100%|██████████| 592/592 [01:32<00:00,  6.43it/s, loss=1.09] \n",
      "Epoch 62/100: 100%|██████████| 592/592 [01:34<00:00,  6.27it/s, loss=1.24] \n",
      "Epoch 63/100: 100%|██████████| 592/592 [01:31<00:00,  6.47it/s, loss=1]    \n",
      "Epoch 64/100: 100%|██████████| 592/592 [01:31<00:00,  6.45it/s, loss=0.999]\n",
      "Epoch 65/100: 100%|██████████| 592/592 [01:31<00:00,  6.44it/s, loss=1.09] \n",
      "Epoch 66/100: 100%|██████████| 592/592 [01:33<00:00,  6.31it/s, loss=1.03] \n",
      "Epoch 67/100: 100%|██████████| 592/592 [01:31<00:00,  6.47it/s, loss=1.04] \n",
      "Epoch 68/100: 100%|██████████| 592/592 [01:31<00:00,  6.46it/s, loss=0.915]\n",
      "Epoch 69/100: 100%|██████████| 592/592 [01:31<00:00,  6.48it/s, loss=1.23] \n",
      "Epoch 70/100: 100%|██████████| 592/592 [01:33<00:00,  6.32it/s, loss=1.2]  \n",
      "Epoch 71/100: 100%|██████████| 592/592 [01:31<00:00,  6.47it/s, loss=1.11] \n",
      "Epoch 72/100: 100%|██████████| 592/592 [01:32<00:00,  6.42it/s, loss=0.894]\n",
      "Epoch 73/100: 100%|██████████| 592/592 [01:32<00:00,  6.41it/s, loss=0.873]\n",
      "Epoch 74/100: 100%|██████████| 592/592 [01:34<00:00,  6.27it/s, loss=1.01] \n",
      "Epoch 75/100: 100%|██████████| 592/592 [01:32<00:00,  6.43it/s, loss=1.24] \n",
      "Epoch 76/100: 100%|██████████| 592/592 [01:31<00:00,  6.46it/s, loss=1.12] \n",
      "Epoch 77/100: 100%|██████████| 592/592 [01:31<00:00,  6.48it/s, loss=1.1]  \n",
      "Epoch 78/100: 100%|██████████| 592/592 [01:34<00:00,  6.25it/s, loss=1.11] \n",
      "Epoch 79/100: 100%|██████████| 592/592 [01:32<00:00,  6.37it/s, loss=1.29] \n",
      "Epoch 80/100: 100%|██████████| 592/592 [01:32<00:00,  6.41it/s, loss=0.929]\n",
      "Epoch 81/100: 100%|██████████| 592/592 [01:32<00:00,  6.43it/s, loss=1.59] \n",
      "Epoch 82/100: 100%|██████████| 592/592 [01:34<00:00,  6.25it/s, loss=1.11] \n",
      "Epoch 83/100: 100%|██████████| 592/592 [01:31<00:00,  6.47it/s, loss=0.896]\n",
      "Epoch 84/100: 100%|██████████| 592/592 [01:32<00:00,  6.42it/s, loss=1.17] \n",
      "Epoch 85/100: 100%|██████████| 592/592 [01:32<00:00,  6.42it/s, loss=1.2]  \n",
      "Epoch 86/100: 100%|██████████| 592/592 [01:34<00:00,  6.28it/s, loss=1.31] \n",
      "Epoch 87/100: 100%|██████████| 592/592 [01:31<00:00,  6.50it/s, loss=1.17] \n",
      "Epoch 88/100: 100%|██████████| 592/592 [01:32<00:00,  6.42it/s, loss=1.01] \n",
      "Epoch 89/100: 100%|██████████| 592/592 [01:31<00:00,  6.45it/s, loss=1.22] \n",
      "Epoch 90/100: 100%|██████████| 592/592 [01:34<00:00,  6.28it/s, loss=1.06] \n",
      "Epoch 91/100: 100%|██████████| 592/592 [01:32<00:00,  6.42it/s, loss=0.944]\n",
      "Epoch 92/100: 100%|██████████| 592/592 [01:31<00:00,  6.45it/s, loss=1.17] \n",
      "Epoch 93/100: 100%|██████████| 592/592 [01:31<00:00,  6.47it/s, loss=0.989]\n",
      "Epoch 94/100: 100%|██████████| 592/592 [01:33<00:00,  6.31it/s, loss=0.999]\n",
      "Epoch 95/100: 100%|██████████| 592/592 [01:31<00:00,  6.48it/s, loss=1.1]  \n",
      "Epoch 96/100: 100%|██████████| 592/592 [01:31<00:00,  6.45it/s, loss=0.955]\n",
      "Epoch 97/100: 100%|██████████| 592/592 [01:32<00:00,  6.40it/s, loss=1.01] \n",
      "Epoch 98/100: 100%|██████████| 592/592 [01:33<00:00,  6.32it/s, loss=1.02] \n",
      "Epoch 99/100: 100%|██████████| 592/592 [01:32<00:00,  6.41it/s, loss=1.04] \n",
      "Epoch 100/100: 100%|██████████| 592/592 [01:31<00:00,  6.45it/s, loss=0.918]\n"
     ]
    }
   ],
   "execution_count": 16
  },
  {
   "metadata": {},
   "cell_type": "markdown",
   "source": "<h3> Оценка модели",
   "id": "22e237227851eca4"
  },
  {
   "metadata": {
    "ExecuteTime": {
     "end_time": "2024-06-04T18:58:59.666636Z",
     "start_time": "2024-06-04T18:58:25.718768Z"
    }
   },
   "cell_type": "code",
   "source": [
    "custom_model.eval()\n",
    "all_preds = []\n",
    "all_labels = []\n",
    "\n",
    "with torch.no_grad():\n",
    "    for inputs, labels in val_loader:\n",
    "        inputs, labels = inputs.to(DEVICE, non_blocking=True), labels.to(DEVICE, non_blocking=True)\n",
    "        outputs = custom_model(inputs)\n",
    "        _, preds = torch.max(outputs, 1)\n",
    "        all_preds.extend(preds.cpu().numpy())\n",
    "        all_labels.extend(labels.cpu().numpy())\n",
    "\n",
    "accuracy = accuracy_score(all_labels, all_preds)\n",
    "f1 = f1_score(all_labels, all_preds, average='macro')\n",
    "val_accuracy_history.append(accuracy)\n",
    "val_f1_history.append(f1)\n",
    "print(f'Validation Accuracy: {accuracy:.4f}, F1 Score: {f1:.4f}')"
   ],
   "id": "fcf8c43e6bb157ba",
   "outputs": [
    {
     "name": "stdout",
     "output_type": "stream",
     "text": [
      "Validation Accuracy: 0.8703, F1 Score: 0.8700\n"
     ]
    }
   ],
   "execution_count": 17
  },
  {
   "metadata": {},
   "cell_type": "markdown",
   "source": "<h3> Обычное сохранение модели",
   "id": "2fe9e2516f07ae71"
  },
  {
   "metadata": {
    "ExecuteTime": {
     "end_time": "2024-06-04T20:30:43.153419Z",
     "start_time": "2024-06-04T20:30:40.906238Z"
    }
   },
   "cell_type": "code",
   "source": [
    "# Сохранение обученной модели\n",
    "def save_model(model, save_path):\n",
    "    model.eval()\n",
    "\n",
    "    # Создание примера входных данных для трассировки\n",
    "    example_input = torch.randn(1, 3, 224, 224)\n",
    "\n",
    "    # Трассировка модели\n",
    "    traced_model = torch.jit.trace(model.cpu(), example_input)\n",
    "\n",
    "    # Сохранение трассированной модели\n",
    "    traced_model.save(save_path)\n",
    "\n",
    "save_path = 'custom_model_traced_cpu.pth'\n",
    "save_model(custom_model, save_path)"
   ],
   "id": "cd86c807d02f7e81",
   "outputs": [],
   "execution_count": 20
  },
  {
   "metadata": {},
   "cell_type": "markdown",
   "source": "<h3> Сохранение модели при помощи квантизации",
   "id": "bd1ddca6e0afc353"
  },
  {
   "metadata": {
    "ExecuteTime": {
     "end_time": "2024-06-05T07:01:25.757298Z",
     "start_time": "2024-06-05T07:01:18.352641Z"
    }
   },
   "cell_type": "code",
   "source": [
    "# квантезация  модели\n",
    "import torch.quantization\n",
    "\n",
    "def save_model_quantization(model, save_path):\n",
    "    # Перевод модели в режим оценки\n",
    "    model.eval()\n",
    "\n",
    "    # Применение динамической квантизации\n",
    "    quantized_model = torch.quantization.quantize_dynamic(\n",
    "        model, {torch.nn.Linear}, dtype=torch.qint8\n",
    "    )\n",
    "\n",
    "    # Создание примера входных данных для трассировки\n",
    "    example_input = torch.randn(1, 3, 224, 224)\n",
    "\n",
    "    # Трассировка модели с использованием примера входных данных\n",
    "    traced_model = torch.jit.trace(quantized_model.cpu(), example_input)\n",
    "\n",
    "    # Сохранение трассированной модели\n",
    "    traced_model.save(save_path)\n",
    "\n",
    "# Пример использования\n",
    "save_path = 'quanted_model_traced_quantized_cpu.pth'\n",
    "save_model_quantization(custom_model, save_path)\n"
   ],
   "id": "86d4dbecd60d3764",
   "outputs": [],
   "execution_count": 21
  }
 ],
 "metadata": {
  "kernelspec": {
   "display_name": "Python 3",
   "language": "python",
   "name": "python3"
  },
  "language_info": {
   "codemirror_mode": {
    "name": "ipython",
    "version": 2
   },
   "file_extension": ".py",
   "mimetype": "text/x-python",
   "name": "python",
   "nbconvert_exporter": "python",
   "pygments_lexer": "ipython2",
   "version": "2.7.6"
  }
 },
 "nbformat": 4,
 "nbformat_minor": 5
}
