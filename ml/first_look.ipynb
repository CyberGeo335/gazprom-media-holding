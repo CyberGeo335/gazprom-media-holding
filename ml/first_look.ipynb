{
 "cells": [
  {
   "metadata": {},
   "cell_type": "markdown",
   "source": [
    "# Разбор папки meta:\n",
    "\n",
    "1) classes.txt\n",
    "2) labels.txt\n",
    "3) test.json\n",
    "4) test.txt\n",
    "5) train.json\n",
    "6) train.txt"
   ],
   "id": "2ec5f26e70ad3d7d"
  },
  {
   "metadata": {},
   "cell_type": "markdown",
   "source": [
    "classes.txt и labels.txt - названия классов \n",
    "\n",
    "Интересующие файлы: test.txt и train.txt\n",
    "\n",
    "Создадим две папки: train и test, куда перенесём фотографии соотнося с путями в test.txt и train.txt"
   ],
   "id": "f27a53f9fa5aafed"
  },
  {
   "cell_type": "code",
   "id": "initial_id",
   "metadata": {
    "collapsed": true,
    "ExecuteTime": {
     "end_time": "2024-06-03T16:11:11.480482Z",
     "start_time": "2024-06-03T16:11:11.462482Z"
    }
   },
   "source": [
    "import os\n",
    "import shutil"
   ],
   "outputs": [],
   "execution_count": 3
  },
  {
   "metadata": {
    "ExecuteTime": {
     "end_time": "2024-06-03T16:11:11.922051Z",
     "start_time": "2024-06-03T16:11:11.903049Z"
    }
   },
   "cell_type": "code",
   "source": [
    "# Пути к файлам\n",
    "train_file = 'D:\\\\ProgPrj\\\\dsProjects\\\\gazprom-media\\\\ml\\\\dataset_kaggle\\\\food-101\\\\meta\\\\train.txt'\n",
    "test_file = 'D:\\\\ProgPrj\\\\dsProjects\\\\gazprom-media\\\\ml\\\\dataset_kaggle\\\\food-101\\\\meta\\\\test.txt'\n",
    "\n",
    "images_folder = 'D:\\\\ProgPrj\\\\dsProjects\\\\gazprom-media\\\\ml\\\\dataset_kaggle\\\\food-101\\\\images'"
   ],
   "id": "153bf0660a38c5df",
   "outputs": [],
   "execution_count": 4
  },
  {
   "metadata": {
    "ExecuteTime": {
     "end_time": "2024-06-03T16:11:13.059559Z",
     "start_time": "2024-06-03T16:11:13.052562Z"
    }
   },
   "cell_type": "code",
   "source": [
    "# Функция для обработки файла и перемещения изображений\n",
    "def process_file(file_path, dest_folder):\n",
    "    with open(file_path, 'r') as file:\n",
    "        for line in file:\n",
    "            relative_path = line.strip()\n",
    "            category, image_name = os.path.split(relative_path)\n",
    "            image_name += '.jpg'\n",
    "            src_image_path = os.path.join(images_folder, category, image_name)\n",
    "            dest_category_path = os.path.join(dest_folder, category)\n",
    "            dest_image_path = os.path.join(dest_category_path, image_name)\n",
    "\n",
    "            if not os.path.exists(dest_category_path):\n",
    "                os.makedirs(dest_category_path)\n",
    "\n",
    "            if os.path.exists(src_image_path):\n",
    "                shutil.move(src_image_path, dest_image_path)\n",
    "            else:\n",
    "                print(f\"File not found: {src_image_path}\")"
   ],
   "id": "96e2cc496b225ba1",
   "outputs": [],
   "execution_count": 5
  },
  {
   "metadata": {
    "ExecuteTime": {
     "end_time": "2024-06-03T16:11:25.438901Z",
     "start_time": "2024-06-03T16:11:25.424817Z"
    }
   },
   "cell_type": "code",
   "source": [
    "# Функция для удаления пустых папок\n",
    "def remove_empty_dirs(root_dir):\n",
    "    for dirpath, dirnames, filenames in os.walk(root_dir, topdown=False):\n",
    "        if not dirnames and not filenames:\n",
    "            os.rmdir(dirpath)"
   ],
   "id": "21487f9206f031a2",
   "outputs": [],
   "execution_count": 6
  },
  {
   "metadata": {
    "ExecuteTime": {
     "end_time": "2024-06-03T16:11:49.363835Z",
     "start_time": "2024-06-03T16:11:33.834257Z"
    }
   },
   "cell_type": "code",
   "source": [
    "# Создание папок train и test\n",
    "os.makedirs('train', exist_ok=True)\n",
    "os.makedirs('test', exist_ok=True)\n",
    "\n",
    "# Обработка файлов train.txt и test.txt\n",
    "process_file(train_file, 'train')\n",
    "process_file(test_file, 'test')\n",
    "\n",
    "# Удаление пустых папок из images\n",
    "remove_empty_dirs(images_folder)"
   ],
   "id": "6f12fbf288279014",
   "outputs": [],
   "execution_count": 7
  },
  {
   "metadata": {},
   "cell_type": "code",
   "outputs": [],
   "execution_count": null,
   "source": "",
   "id": "699a92ab88762cfc"
  }
 ],
 "metadata": {
  "kernelspec": {
   "display_name": "Python 3",
   "language": "python",
   "name": "python3"
  },
  "language_info": {
   "codemirror_mode": {
    "name": "ipython",
    "version": 2
   },
   "file_extension": ".py",
   "mimetype": "text/x-python",
   "name": "python",
   "nbconvert_exporter": "python",
   "pygments_lexer": "ipython2",
   "version": "2.7.6"
  }
 },
 "nbformat": 4,
 "nbformat_minor": 5
}
